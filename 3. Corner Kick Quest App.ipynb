{
 "cells": [
  {
   "cell_type": "markdown",
   "id": "cdbcbd40-92e8-4b6b-b62d-d116d9858af8",
   "metadata": {
    "tags": []
   },
   "source": [
    "# SkillCorner Open Data + kloppy\n",
    "\n",
    "## Corner Kick Quest App\n",
    "#### by Ana De Souza\n",
    "\n",
    "As mentioned in the notebook \"Exploratory Data Analysis\" notebook, we will visualize the frame and the quest to find a corner kick."
   ]
  },
  {
   "cell_type": "markdown",
   "id": "afb71899-34d9-4612-9395-f0edd2c75c1b",
   "metadata": {},
   "source": [
    "#### **Importing Libraries**"
   ]
  },
  {
   "cell_type": "code",
   "execution_count": 1,
   "id": "3d85c6bd-df89-4c5b-bb22-fb03449eace2",
   "metadata": {},
   "outputs": [],
   "source": [
    "#pip install kloppy "
   ]
  },
  {
   "cell_type": "code",
   "execution_count": 2,
   "id": "426c8502-b259-417d-a247-5590819039b5",
   "metadata": {},
   "outputs": [],
   "source": [
    "#pip install mplsoccer"
   ]
  },
  {
   "cell_type": "code",
   "execution_count": 3,
   "id": "c141769c-4ef6-48aa-8196-8f90e24c72d5",
   "metadata": {},
   "outputs": [],
   "source": [
    "from kloppy import skillcorner\n",
    "from mplsoccer.pitch import Pitch\n",
    "import pandas as pd\n",
    "import matplotlib.pyplot as plt\n",
    "import panel as pn\n",
    "\n",
    "import warnings\n",
    "warnings.filterwarnings(\"ignore\", category=UserWarning)"
   ]
  },
  {
   "cell_type": "markdown",
   "id": "564d25f1-013f-47d3-9943-d335681cb3f1",
   "metadata": {},
   "source": [
    "#### **Loading the Dataset**"
   ]
  },
  {
   "cell_type": "code",
   "execution_count": 4,
   "id": "5e167723-ae6f-4103-82c5-e298ac04f351",
   "metadata": {},
   "outputs": [
    {
     "name": "stderr",
     "output_type": "stream",
     "text": [
      "/var/folders/jy/6vkdbscx6wl2sl46c29t4l1h0000gn/T/ipykernel_54117/815353277.py:9: DeprecationWarning: Call to deprecated function to_pandas (to_pandas will be removed in the future. Please use to_df instead.).\n",
      "  df = dataset.to_pandas()\n"
     ]
    }
   ],
   "source": [
    "dataset = skillcorner.load_open_data(\n",
    "    match_id=2068,\n",
    "    sample_rate=1/10,\n",
    "    limit=100,\n",
    "    coordinates=\"skillcorner\",\n",
    "    include_empty_frames=False\n",
    ")\n",
    "\n",
    "df = dataset.to_pandas()"
   ]
  },
  {
   "cell_type": "markdown",
   "id": "d512b09e-12e6-4710-8144-fb99624d28eb",
   "metadata": {
    "tags": []
   },
   "source": [
    "#### **Converting timestamps in mm:ss format**"
   ]
  },
  {
   "cell_type": "code",
   "execution_count": 5,
   "id": "d9cb5b31-1806-434a-8c9b-1d106bfe3493",
   "metadata": {},
   "outputs": [],
   "source": [
    "def convert_to_mmss(seconds):\n",
    "    minutes = int(seconds // 60)\n",
    "    remaining_seconds = int(seconds % 60)\n",
    "    return '{:02d}:{:02d}'.format(minutes, remaining_seconds)\n",
    "\n",
    "df['timestamp'] = df['timestamp'].apply(convert_to_mmss)"
   ]
  },
  {
   "cell_type": "code",
   "execution_count": 6,
   "id": "e68fdcc5-8d73-4ebc-b5f7-3c8e43de6fbc",
   "metadata": {},
   "outputs": [],
   "source": [
    "warnings.filterwarnings(\"ignore\", message=\"posx and posy should be finite values\")\n",
    "\n",
    "warnings.filterwarnings(\"ignore\", message=\".*GET /favicon.ico .*\")"
   ]
  },
  {
   "cell_type": "markdown",
   "id": "50484956-af5b-4df3-ac4f-0f7823999230",
   "metadata": {},
   "source": [
    "#### **Creating an app to see frame by frame**"
   ]
  },
  {
   "cell_type": "code",
   "execution_count": 7,
   "id": "33fa86b7-4cf9-4557-9964-2b176de2b52d",
   "metadata": {},
   "outputs": [
    {
     "name": "stderr",
     "output_type": "stream",
     "text": [
      "WARNING:param.Next: Setting non-parameter attribute button_style=success using a mechanism intended only for parameters\n",
      "WARNING:param.Previous: Setting non-parameter attribute button_style=warning using a mechanism intended only for parameters\n"
     ]
    },
    {
     "name": "stdout",
     "output_type": "stream",
     "text": [
      "Launching server at http://localhost:50555\n"
     ]
    },
    {
     "data": {
      "text/plain": [
       "<panel.io.server.Server at 0x15afbe860>"
      ]
     },
     "execution_count": 7,
     "metadata": {},
     "output_type": "execute_result"
    },
    {
     "name": "stderr",
     "output_type": "stream",
     "text": [
      "posx and posy should be finite values\n",
      "posx and posy should be finite values\n",
      "posx and posy should be finite values\n",
      "posx and posy should be finite values\n",
      "posx and posy should be finite values\n",
      "posx and posy should be finite values\n",
      "posx and posy should be finite values\n",
      "posx and posy should be finite values\n",
      "posx and posy should be finite values\n",
      "posx and posy should be finite values\n",
      "posx and posy should be finite values\n",
      "posx and posy should be finite values\n",
      "posx and posy should be finite values\n",
      "posx and posy should be finite values\n",
      "posx and posy should be finite values\n",
      "posx and posy should be finite values\n",
      "posx and posy should be finite values\n",
      "posx and posy should be finite values\n",
      "posx and posy should be finite values\n",
      "posx and posy should be finite values\n",
      "posx and posy should be finite values\n",
      "posx and posy should be finite values\n",
      "posx and posy should be finite values\n",
      "posx and posy should be finite values\n",
      "posx and posy should be finite values\n",
      "posx and posy should be finite values\n",
      "posx and posy should be finite values\n",
      "posx and posy should be finite values\n",
      "posx and posy should be finite values\n",
      "posx and posy should be finite values\n",
      "posx and posy should be finite values\n",
      "posx and posy should be finite values\n",
      "posx and posy should be finite values\n",
      "posx and posy should be finite values\n",
      "posx and posy should be finite values\n",
      "posx and posy should be finite values\n",
      "posx and posy should be finite values\n",
      "posx and posy should be finite values\n",
      "posx and posy should be finite values\n",
      "posx and posy should be finite values\n",
      "posx and posy should be finite values\n",
      "posx and posy should be finite values\n",
      "posx and posy should be finite values\n",
      "posx and posy should be finite values\n",
      "posx and posy should be finite values\n",
      "posx and posy should be finite values\n",
      "posx and posy should be finite values\n",
      "posx and posy should be finite values\n",
      "posx and posy should be finite values\n",
      "posx and posy should be finite values\n",
      "posx and posy should be finite values\n",
      "posx and posy should be finite values\n",
      "posx and posy should be finite values\n",
      "posx and posy should be finite values\n",
      "posx and posy should be finite values\n",
      "posx and posy should be finite values\n",
      "posx and posy should be finite values\n",
      "posx and posy should be finite values\n",
      "posx and posy should be finite values\n",
      "posx and posy should be finite values\n",
      "posx and posy should be finite values\n",
      "posx and posy should be finite values\n",
      "posx and posy should be finite values\n"
     ]
    },
    {
     "data": {
      "image/png": "[encoded data removed]",
      "text/plain": [
       "<Figure size 1200x1000 with 1 Axes>"
      ]
     },
     "metadata": {},
     "output_type": "display_data"
    },
    {
     "name": "stderr",
     "output_type": "stream",
     "text": [
      "posx and posy should be finite values\n",
      "posx and posy should be finite values\n",
      "posx and posy should be finite values\n",
      "posx and posy should be finite values\n",
      "posx and posy should be finite values\n",
      "posx and posy should be finite values\n",
      "posx and posy should be finite values\n",
      "posx and posy should be finite values\n",
      "posx and posy should be finite values\n",
      "posx and posy should be finite values\n",
      "posx and posy should be finite values\n",
      "posx and posy should be finite values\n",
      "posx and posy should be finite values\n",
      "posx and posy should be finite values\n",
      "posx and posy should be finite values\n",
      "posx and posy should be finite values\n",
      "posx and posy should be finite values\n",
      "posx and posy should be finite values\n",
      "posx and posy should be finite values\n",
      "posx and posy should be finite values\n",
      "posx and posy should be finite values\n",
      "posx and posy should be finite values\n",
      "posx and posy should be finite values\n",
      "posx and posy should be finite values\n",
      "posx and posy should be finite values\n",
      "posx and posy should be finite values\n",
      "posx and posy should be finite values\n",
      "posx and posy should be finite values\n",
      "posx and posy should be finite values\n",
      "posx and posy should be finite values\n",
      "posx and posy should be finite values\n",
      "posx and posy should be finite values\n",
      "posx and posy should be finite values\n",
      "posx and posy should be finite values\n",
      "posx and posy should be finite values\n",
      "posx and posy should be finite values\n",
      "posx and posy should be finite values\n",
      "posx and posy should be finite values\n",
      "posx and posy should be finite values\n",
      "posx and posy should be finite values\n",
      "posx and posy should be finite values\n",
      "posx and posy should be finite values\n",
      "WARNING:tornado.access:404 GET /favicon.ico (::1) 0.24ms\n"
     ]
    }
   ],
   "source": [
    "def visualize_data(index):\n",
    "    \n",
    "    # Pitch\n",
    "    pitch = Pitch(pitch_type='skillcorner', pitch_color='#c4c4c4', line_color='white',\n",
    "                  stripe_color='#d6d6d6', stripe=True, pitch_length=105, pitch_width=68)\n",
    "\n",
    "    fig, ax = pitch.draw(figsize=(12, 10))\n",
    "\n",
    "    # Ball\n",
    "    x = df.loc[index]['ball_x']\n",
    "    y = df.loc[index]['ball_y']\n",
    "    ax.scatter(x, y, color='blue', edgecolor='black')\n",
    "\n",
    "    # Players\n",
    "    coordinates = {\n",
    "        'home': [1, 2, 6, 9, 10, 12, 18, 23, 33, 37, 77],\n",
    "        'away': [1, 4, 5, 6, 7, 10, 12, 14, 16, 19, 33],\n",
    "        'home_anon': [120, 136, 254, 253, 315, 306, 322, 327],\n",
    "        'away_anon': [80, 156, 246, 257, 269, 288, 311, 322]\n",
    "    }\n",
    "\n",
    "    # Colors\n",
    "    colors = {\n",
    "        'home': 'purple',\n",
    "        'away': 'teal',\n",
    "        'home_anon': 'orchid',\n",
    "        'away_anon': 'darkturquoise'\n",
    "    }\n",
    "\n",
    "    for team, nums in coordinates.items():\n",
    "        for num in nums:\n",
    "            x = df.loc[index][f'{team}_{num}_x']\n",
    "            y = df.loc[index][f'{team}_{num}_y']\n",
    "            ax.scatter(x, y, color=colors[team], s=200)\n",
    "            ax.text(x, y, str(num), color='white', fontsize=8, ha='center', va='center')\n",
    "\n",
    "    timestamp = df.loc[index]['timestamp']\n",
    "   \n",
    "    ball_owning_team_id = df.loc[index]['ball_owning_team_id']\n",
    "    if ball_owning_team_id == 145:\n",
    "        team_label = 'Home Team (Purple)'\n",
    "    elif ball_owning_team_id == 139:\n",
    "        team_label = 'Away Team (Teal)'\n",
    "    else:\n",
    "        team_label = 'Unknown Team'\n",
    "\n",
    "    ax.legend(['Timestamp: ' + str(timestamp), 'Team with Possession: ' + team_label])\n",
    "\n",
    "    ax.set_title('The Corner Kick Quest', fontsize=18, fontweight='bold')\n",
    "\n",
    "    return pn.pane.Matplotlib(fig)\n",
    "\n",
    "# Define the arrow button callback functions\n",
    "def next_frame(event):\n",
    "    if index.value < 100:\n",
    "        index.value += 1\n",
    "\n",
    "def previous_frame(event):\n",
    "    if index.value > -1:\n",
    "        index.value -= 1\n",
    "\n",
    "# Index widget/slider\n",
    "index = pn.widgets.IntSlider(name='Frame', start=0, end=99, value=0)\n",
    "\n",
    "# Arrow buttons\n",
    "next_button = pn.widgets.Button(name='Next', button_type='success', width=60, button_style='success')\n",
    "previous_button = pn.widgets.Button(name='Previous', button_type='warning', width=60, button_style='warning')\n",
    "\n",
    "# Callback functions for arrow buttons\n",
    "next_button.on_click(next_frame)\n",
    "previous_button.on_click(previous_frame)\n",
    "\n",
    "interactive_viz = pn.interact(visualize_data, index=index)\n",
    "layout = pn.Row(previous_button, next_button, interactive_viz)\n",
    "\n",
    "layout.show()"
   ]
  },
  {
   "cell_type": "code",
   "execution_count": null,
   "id": "77cfc6d3-04b6-45c6-aa35-9c67836c798d",
   "metadata": {},
   "outputs": [],
   "source": []
  },
  {
   "cell_type": "code",
   "execution_count": null,
   "id": "eeece7a6-e3ee-4388-9c00-351ff2dfe53f",
   "metadata": {},
   "outputs": [],
   "source": []
  }
 ],
 "metadata": {
  "kernelspec": {
   "display_name": "Python 3 (ipykernel)",
   "language": "python",
   "name": "python3"
  },
  "language_info": {
   "codemirror_mode": {
    "name": "ipython",
    "version": 3
   },
   "file_extension": ".py",
   "mimetype": "text/x-python",
   "name": "python",
   "nbconvert_exporter": "python",
   "pygments_lexer": "ipython3",
   "version": "3.10.9"
  }
 },
 "nbformat": 4,
 "nbformat_minor": 5
}
