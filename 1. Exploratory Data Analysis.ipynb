{
 "cells": [
  {
   "cell_type": "markdown",
   "id": "cdbcbd40-92e8-4b6b-b62d-d116d9858af8",
   "metadata": {
    "tags": []
   },
   "source": [
    "# SkillCorner Open Data + kloppy\n",
    "\n",
    "## Exploratory Data Analysis\n",
    "#### by Ana De Souza\n",
    "\n",
    "- Using Skillcorner broadcast tracking data, we will create a model that identifies corner kick situations and use it to deliver analytical insights to the coaching staff in the context of opposition analysis.\n",
    "- To load the data, we will utilize \"kloppy,\" a Python package that addresses the challenges posed by the variety of data formats and aims to be the fundamental building block for processing soccer tracking and event data by pysport.\n",
    "- Additionally, we will conduct exploratory data analysis to familiarize ourselves with the data source as this is our first time using Skillcorner.\n",
    "- For the datasets, we will utilize the available matches in the SkillCorner opendata: 2068, 2269, 2417, 2440, 2841, 3442, 3518, 3749, and 4039.\n",
    "- In conclusion, we will attempt to plot the data in app form to extract and provide actionable insights to improve team performance and decision-making during corner kick situations."
   ]
  },
  {
   "cell_type": "markdown",
   "id": "afb71899-34d9-4612-9395-f0edd2c75c1b",
   "metadata": {},
   "source": [
    "#### **Importing Libraries**"
   ]
  },
  {
   "cell_type": "code",
   "execution_count": 1,
   "id": "53b3a0d7-9d16-4a3e-8b2f-92d57b1cfc9e",
   "metadata": {},
   "outputs": [],
   "source": [
    "#pip install kloppy "
   ]
  },
  {
   "cell_type": "code",
   "execution_count": 2,
   "id": "c141769c-4ef6-48aa-8196-8f90e24c72d5",
   "metadata": {},
   "outputs": [],
   "source": [
    "from kloppy import skillcorner\n",
    "import pandas as pd"
   ]
  },
  {
   "cell_type": "markdown",
   "id": "564d25f1-013f-47d3-9943-d335681cb3f1",
   "metadata": {},
   "source": [
    "#### **Loading the Dataset**"
   ]
  },
  {
   "cell_type": "code",
   "execution_count": 3,
   "id": "5eb9ebd5-c2e9-439d-bc40-ea1ea02373b0",
   "metadata": {},
   "outputs": [
    {
     "name": "stderr",
     "output_type": "stream",
     "text": [
      "/var/folders/jy/6vkdbscx6wl2sl46c29t4l1h0000gn/T/ipykernel_53921/2560354770.py:10: DeprecationWarning: Call to deprecated function to_pandas (to_pandas will be removed in the future. Please use to_df instead.).\n",
      "  df = dataset.to_pandas()\n"
     ]
    }
   ],
   "source": [
    "dataset = skillcorner.load(\n",
    "    meta_data=\"https://raw.githubusercontent.com/SkillCorner/opendata/master/data/matches/2068/match_data.json\",\n",
    "    raw_data=\"https://raw.githubusercontent.com/SkillCorner/opendata/master/data/matches/2068/structured_data.json\",\n",
    "    sample_rate=1/10,\n",
    "    limit=100,\n",
    "    coordinates=\"skillcorner\",\n",
    "    include_empty_frames=False\n",
    ")\n",
    "\n",
    "df = dataset.to_pandas()"
   ]
  },
  {
   "cell_type": "markdown",
   "id": "b711c08c-b8c8-4de9-8f12-12e6c04363e3",
   "metadata": {},
   "source": [
    "#### **View the first and the last 5 rows of the dataset**"
   ]
  },
  {
   "cell_type": "code",
   "execution_count": 4,
   "id": "95484d63-e320-474a-8afd-e23e436c8734",
   "metadata": {},
   "outputs": [
    {
     "data": {
      "text/html": [
       "<div>\n",
       "<style scoped>\n",
       "    .dataframe tbody tr th:only-of-type {\n",
       "        vertical-align: middle;\n",
       "    }\n",
       "\n",
       "    .dataframe tbody tr th {\n",
       "        vertical-align: top;\n",
       "    }\n",
       "\n",
       "    .dataframe thead th {\n",
       "        text-align: right;\n",
       "    }\n",
       "</style>\n",
       "<table border=\"1\" class=\"dataframe\">\n",
       "  <thead>\n",
       "    <tr style=\"text-align: right;\">\n",
       "      <th></th>\n",
       "      <th>period_id</th>\n",
       "      <th>timestamp</th>\n",
       "      <th>frame_id</th>\n",
       "      <th>ball_state</th>\n",
       "      <th>ball_owning_team_id</th>\n",
       "      <th>ball_x</th>\n",
       "      <th>ball_y</th>\n",
       "      <th>ball_z</th>\n",
       "      <th>home_37_x</th>\n",
       "      <th>home_37_y</th>\n",
       "      <th>...</th>\n",
       "      <th>home_anon_322_d</th>\n",
       "      <th>home_anon_322_s</th>\n",
       "      <th>away_anon_322_x</th>\n",
       "      <th>away_anon_322_y</th>\n",
       "      <th>away_anon_322_d</th>\n",
       "      <th>away_anon_322_s</th>\n",
       "      <th>home_anon_327_x</th>\n",
       "      <th>home_anon_327_y</th>\n",
       "      <th>home_anon_327_d</th>\n",
       "      <th>home_anon_327_s</th>\n",
       "    </tr>\n",
       "  </thead>\n",
       "  <tbody>\n",
       "    <tr>\n",
       "      <th>0</th>\n",
       "      <td>1</td>\n",
       "      <td>0.0</td>\n",
       "      <td>1833</td>\n",
       "      <td>None</td>\n",
       "      <td>NaN</td>\n",
       "      <td>NaN</td>\n",
       "      <td>NaN</td>\n",
       "      <td>NaN</td>\n",
       "      <td>-22.432314</td>\n",
       "      <td>7.830066</td>\n",
       "      <td>...</td>\n",
       "      <td>NaN</td>\n",
       "      <td>NaN</td>\n",
       "      <td>NaN</td>\n",
       "      <td>NaN</td>\n",
       "      <td>NaN</td>\n",
       "      <td>NaN</td>\n",
       "      <td>NaN</td>\n",
       "      <td>NaN</td>\n",
       "      <td>NaN</td>\n",
       "      <td>NaN</td>\n",
       "    </tr>\n",
       "    <tr>\n",
       "      <th>1</th>\n",
       "      <td>1</td>\n",
       "      <td>1.0</td>\n",
       "      <td>1843</td>\n",
       "      <td>None</td>\n",
       "      <td>139.0</td>\n",
       "      <td>15.242770</td>\n",
       "      <td>0.569062</td>\n",
       "      <td>0.135426</td>\n",
       "      <td>NaN</td>\n",
       "      <td>NaN</td>\n",
       "      <td>...</td>\n",
       "      <td>NaN</td>\n",
       "      <td>NaN</td>\n",
       "      <td>NaN</td>\n",
       "      <td>NaN</td>\n",
       "      <td>NaN</td>\n",
       "      <td>NaN</td>\n",
       "      <td>NaN</td>\n",
       "      <td>NaN</td>\n",
       "      <td>NaN</td>\n",
       "      <td>NaN</td>\n",
       "    </tr>\n",
       "    <tr>\n",
       "      <th>2</th>\n",
       "      <td>1</td>\n",
       "      <td>2.0</td>\n",
       "      <td>1853</td>\n",
       "      <td>None</td>\n",
       "      <td>139.0</td>\n",
       "      <td>15.885584</td>\n",
       "      <td>0.776744</td>\n",
       "      <td>NaN</td>\n",
       "      <td>NaN</td>\n",
       "      <td>NaN</td>\n",
       "      <td>...</td>\n",
       "      <td>NaN</td>\n",
       "      <td>NaN</td>\n",
       "      <td>NaN</td>\n",
       "      <td>NaN</td>\n",
       "      <td>NaN</td>\n",
       "      <td>NaN</td>\n",
       "      <td>NaN</td>\n",
       "      <td>NaN</td>\n",
       "      <td>NaN</td>\n",
       "      <td>NaN</td>\n",
       "    </tr>\n",
       "    <tr>\n",
       "      <th>3</th>\n",
       "      <td>1</td>\n",
       "      <td>3.0</td>\n",
       "      <td>1863</td>\n",
       "      <td>None</td>\n",
       "      <td>139.0</td>\n",
       "      <td>4.981162</td>\n",
       "      <td>1.476464</td>\n",
       "      <td>4.850837</td>\n",
       "      <td>-24.414745</td>\n",
       "      <td>3.478708</td>\n",
       "      <td>...</td>\n",
       "      <td>NaN</td>\n",
       "      <td>NaN</td>\n",
       "      <td>NaN</td>\n",
       "      <td>NaN</td>\n",
       "      <td>NaN</td>\n",
       "      <td>NaN</td>\n",
       "      <td>NaN</td>\n",
       "      <td>NaN</td>\n",
       "      <td>NaN</td>\n",
       "      <td>NaN</td>\n",
       "    </tr>\n",
       "    <tr>\n",
       "      <th>4</th>\n",
       "      <td>1</td>\n",
       "      <td>4.0</td>\n",
       "      <td>1873</td>\n",
       "      <td>None</td>\n",
       "      <td>139.0</td>\n",
       "      <td>NaN</td>\n",
       "      <td>NaN</td>\n",
       "      <td>NaN</td>\n",
       "      <td>-27.298623</td>\n",
       "      <td>0.736441</td>\n",
       "      <td>...</td>\n",
       "      <td>NaN</td>\n",
       "      <td>NaN</td>\n",
       "      <td>NaN</td>\n",
       "      <td>NaN</td>\n",
       "      <td>NaN</td>\n",
       "      <td>NaN</td>\n",
       "      <td>NaN</td>\n",
       "      <td>NaN</td>\n",
       "      <td>NaN</td>\n",
       "      <td>NaN</td>\n",
       "    </tr>\n",
       "  </tbody>\n",
       "</table>\n",
       "<p>5 rows × 160 columns</p>\n",
       "</div>"
      ],
      "text/plain": [
       "   period_id  timestamp  frame_id ball_state  ball_owning_team_id     ball_x  \\\n",
       "0          1        0.0      1833       None                  NaN        NaN   \n",
       "1          1        1.0      1843       None                139.0  15.242770   \n",
       "2          1        2.0      1853       None                139.0  15.885584   \n",
       "3          1        3.0      1863       None                139.0   4.981162   \n",
       "4          1        4.0      1873       None                139.0        NaN   \n",
       "\n",
       "     ball_y    ball_z  home_37_x  home_37_y  ...  home_anon_322_d  \\\n",
       "0       NaN       NaN -22.432314   7.830066  ...              NaN   \n",
       "1  0.569062  0.135426        NaN        NaN  ...              NaN   \n",
       "2  0.776744       NaN        NaN        NaN  ...              NaN   \n",
       "3  1.476464  4.850837 -24.414745   3.478708  ...              NaN   \n",
       "4       NaN       NaN -27.298623   0.736441  ...              NaN   \n",
       "\n",
       "   home_anon_322_s  away_anon_322_x  away_anon_322_y  away_anon_322_d  \\\n",
       "0              NaN              NaN              NaN              NaN   \n",
       "1              NaN              NaN              NaN              NaN   \n",
       "2              NaN              NaN              NaN              NaN   \n",
       "3              NaN              NaN              NaN              NaN   \n",
       "4              NaN              NaN              NaN              NaN   \n",
       "\n",
       "   away_anon_322_s  home_anon_327_x  home_anon_327_y  home_anon_327_d  \\\n",
       "0              NaN              NaN              NaN              NaN   \n",
       "1              NaN              NaN              NaN              NaN   \n",
       "2              NaN              NaN              NaN              NaN   \n",
       "3              NaN              NaN              NaN              NaN   \n",
       "4              NaN              NaN              NaN              NaN   \n",
       "\n",
       "   home_anon_327_s  \n",
       "0              NaN  \n",
       "1              NaN  \n",
       "2              NaN  \n",
       "3              NaN  \n",
       "4              NaN  \n",
       "\n",
       "[5 rows x 160 columns]"
      ]
     },
     "execution_count": 4,
     "metadata": {},
     "output_type": "execute_result"
    }
   ],
   "source": [
    "df.head()"
   ]
  },
  {
   "cell_type": "code",
   "execution_count": 5,
   "id": "25ad829f-e522-4864-902a-99c42bb42130",
   "metadata": {},
   "outputs": [
    {
     "data": {
      "text/html": [
       "<div>\n",
       "<style scoped>\n",
       "    .dataframe tbody tr th:only-of-type {\n",
       "        vertical-align: middle;\n",
       "    }\n",
       "\n",
       "    .dataframe tbody tr th {\n",
       "        vertical-align: top;\n",
       "    }\n",
       "\n",
       "    .dataframe thead th {\n",
       "        text-align: right;\n",
       "    }\n",
       "</style>\n",
       "<table border=\"1\" class=\"dataframe\">\n",
       "  <thead>\n",
       "    <tr style=\"text-align: right;\">\n",
       "      <th></th>\n",
       "      <th>period_id</th>\n",
       "      <th>timestamp</th>\n",
       "      <th>frame_id</th>\n",
       "      <th>ball_state</th>\n",
       "      <th>ball_owning_team_id</th>\n",
       "      <th>ball_x</th>\n",
       "      <th>ball_y</th>\n",
       "      <th>ball_z</th>\n",
       "      <th>home_37_x</th>\n",
       "      <th>home_37_y</th>\n",
       "      <th>...</th>\n",
       "      <th>home_anon_322_d</th>\n",
       "      <th>home_anon_322_s</th>\n",
       "      <th>away_anon_322_x</th>\n",
       "      <th>away_anon_322_y</th>\n",
       "      <th>away_anon_322_d</th>\n",
       "      <th>away_anon_322_s</th>\n",
       "      <th>home_anon_327_x</th>\n",
       "      <th>home_anon_327_y</th>\n",
       "      <th>home_anon_327_d</th>\n",
       "      <th>home_anon_327_s</th>\n",
       "    </tr>\n",
       "  </thead>\n",
       "  <tbody>\n",
       "    <tr>\n",
       "      <th>95</th>\n",
       "      <td>1</td>\n",
       "      <td>138.0</td>\n",
       "      <td>3213</td>\n",
       "      <td>None</td>\n",
       "      <td>145.0</td>\n",
       "      <td>-15.329993</td>\n",
       "      <td>-5.856413</td>\n",
       "      <td>NaN</td>\n",
       "      <td>-8.410426</td>\n",
       "      <td>12.295932</td>\n",
       "      <td>...</td>\n",
       "      <td>NaN</td>\n",
       "      <td>NaN</td>\n",
       "      <td>NaN</td>\n",
       "      <td>NaN</td>\n",
       "      <td>NaN</td>\n",
       "      <td>NaN</td>\n",
       "      <td>NaN</td>\n",
       "      <td>NaN</td>\n",
       "      <td>NaN</td>\n",
       "      <td>NaN</td>\n",
       "    </tr>\n",
       "    <tr>\n",
       "      <th>96</th>\n",
       "      <td>1</td>\n",
       "      <td>139.0</td>\n",
       "      <td>3223</td>\n",
       "      <td>None</td>\n",
       "      <td>145.0</td>\n",
       "      <td>-16.163115</td>\n",
       "      <td>-2.227213</td>\n",
       "      <td>NaN</td>\n",
       "      <td>-10.516237</td>\n",
       "      <td>14.669300</td>\n",
       "      <td>...</td>\n",
       "      <td>NaN</td>\n",
       "      <td>NaN</td>\n",
       "      <td>NaN</td>\n",
       "      <td>NaN</td>\n",
       "      <td>NaN</td>\n",
       "      <td>NaN</td>\n",
       "      <td>NaN</td>\n",
       "      <td>NaN</td>\n",
       "      <td>NaN</td>\n",
       "      <td>NaN</td>\n",
       "    </tr>\n",
       "    <tr>\n",
       "      <th>97</th>\n",
       "      <td>1</td>\n",
       "      <td>140.0</td>\n",
       "      <td>3233</td>\n",
       "      <td>None</td>\n",
       "      <td>145.0</td>\n",
       "      <td>-12.448562</td>\n",
       "      <td>10.350243</td>\n",
       "      <td>2.902440e-16</td>\n",
       "      <td>-10.627932</td>\n",
       "      <td>15.334351</td>\n",
       "      <td>...</td>\n",
       "      <td>NaN</td>\n",
       "      <td>NaN</td>\n",
       "      <td>NaN</td>\n",
       "      <td>NaN</td>\n",
       "      <td>NaN</td>\n",
       "      <td>NaN</td>\n",
       "      <td>NaN</td>\n",
       "      <td>NaN</td>\n",
       "      <td>NaN</td>\n",
       "      <td>NaN</td>\n",
       "    </tr>\n",
       "    <tr>\n",
       "      <th>98</th>\n",
       "      <td>1</td>\n",
       "      <td>142.0</td>\n",
       "      <td>3253</td>\n",
       "      <td>None</td>\n",
       "      <td>145.0</td>\n",
       "      <td>NaN</td>\n",
       "      <td>NaN</td>\n",
       "      <td>NaN</td>\n",
       "      <td>-10.697177</td>\n",
       "      <td>18.053226</td>\n",
       "      <td>...</td>\n",
       "      <td>NaN</td>\n",
       "      <td>NaN</td>\n",
       "      <td>NaN</td>\n",
       "      <td>NaN</td>\n",
       "      <td>NaN</td>\n",
       "      <td>NaN</td>\n",
       "      <td>NaN</td>\n",
       "      <td>NaN</td>\n",
       "      <td>NaN</td>\n",
       "      <td>NaN</td>\n",
       "    </tr>\n",
       "    <tr>\n",
       "      <th>99</th>\n",
       "      <td>1</td>\n",
       "      <td>143.0</td>\n",
       "      <td>3263</td>\n",
       "      <td>None</td>\n",
       "      <td>145.0</td>\n",
       "      <td>-4.743003</td>\n",
       "      <td>27.022774</td>\n",
       "      <td>1.131683e-01</td>\n",
       "      <td>-12.764154</td>\n",
       "      <td>22.291986</td>\n",
       "      <td>...</td>\n",
       "      <td>NaN</td>\n",
       "      <td>NaN</td>\n",
       "      <td>NaN</td>\n",
       "      <td>NaN</td>\n",
       "      <td>NaN</td>\n",
       "      <td>NaN</td>\n",
       "      <td>NaN</td>\n",
       "      <td>NaN</td>\n",
       "      <td>NaN</td>\n",
       "      <td>NaN</td>\n",
       "    </tr>\n",
       "  </tbody>\n",
       "</table>\n",
       "<p>5 rows × 160 columns</p>\n",
       "</div>"
      ],
      "text/plain": [
       "    period_id  timestamp  frame_id ball_state  ball_owning_team_id     ball_x  \\\n",
       "95          1      138.0      3213       None                145.0 -15.329993   \n",
       "96          1      139.0      3223       None                145.0 -16.163115   \n",
       "97          1      140.0      3233       None                145.0 -12.448562   \n",
       "98          1      142.0      3253       None                145.0        NaN   \n",
       "99          1      143.0      3263       None                145.0  -4.743003   \n",
       "\n",
       "       ball_y        ball_z  home_37_x  home_37_y  ...  home_anon_322_d  \\\n",
       "95  -5.856413           NaN  -8.410426  12.295932  ...              NaN   \n",
       "96  -2.227213           NaN -10.516237  14.669300  ...              NaN   \n",
       "97  10.350243  2.902440e-16 -10.627932  15.334351  ...              NaN   \n",
       "98        NaN           NaN -10.697177  18.053226  ...              NaN   \n",
       "99  27.022774  1.131683e-01 -12.764154  22.291986  ...              NaN   \n",
       "\n",
       "    home_anon_322_s  away_anon_322_x  away_anon_322_y  away_anon_322_d  \\\n",
       "95              NaN              NaN              NaN              NaN   \n",
       "96              NaN              NaN              NaN              NaN   \n",
       "97              NaN              NaN              NaN              NaN   \n",
       "98              NaN              NaN              NaN              NaN   \n",
       "99              NaN              NaN              NaN              NaN   \n",
       "\n",
       "    away_anon_322_s  home_anon_327_x  home_anon_327_y  home_anon_327_d  \\\n",
       "95              NaN              NaN              NaN              NaN   \n",
       "96              NaN              NaN              NaN              NaN   \n",
       "97              NaN              NaN              NaN              NaN   \n",
       "98              NaN              NaN              NaN              NaN   \n",
       "99              NaN              NaN              NaN              NaN   \n",
       "\n",
       "    home_anon_327_s  \n",
       "95              NaN  \n",
       "96              NaN  \n",
       "97              NaN  \n",
       "98              NaN  \n",
       "99              NaN  \n",
       "\n",
       "[5 rows x 160 columns]"
      ]
     },
     "execution_count": 5,
     "metadata": {},
     "output_type": "execute_result"
    }
   ],
   "source": [
    "df.tail()"
   ]
  },
  {
   "cell_type": "markdown",
   "id": "a7f30766-4fd9-4176-ad17-d4a6c33937a6",
   "metadata": {},
   "source": [
    "**Observations**\n",
    "- It appears that we have data on the team in possession, identified by ID, as well as ball data in XYZ format indicating its position on the field, along with its height\n",
    "- We can see there are only 100 rows in this dataset set that goes up to the 143 second\n",
    "- 143 seconds is roughly 2:23\n",
    "- We can explore converting the clock to mm:ss format for better visual"
   ]
  },
  {
   "cell_type": "markdown",
   "id": "d512b09e-12e6-4710-8144-fb99624d28eb",
   "metadata": {
    "tags": []
   },
   "source": [
    "#### **Converting timestamps in mm:ss format**"
   ]
  },
  {
   "cell_type": "code",
   "execution_count": 6,
   "id": "d9cb5b31-1806-434a-8c9b-1d106bfe3493",
   "metadata": {},
   "outputs": [],
   "source": [
    "def convert_to_mmss(seconds):\n",
    "    minutes = int(seconds // 60)\n",
    "    remaining_seconds = int(seconds % 60)\n",
    "    return '{:02d}:{:02d}'.format(minutes, remaining_seconds)\n",
    "\n",
    "df['timestamp'] = df['timestamp'].apply(convert_to_mmss)"
   ]
  },
  {
   "cell_type": "code",
   "execution_count": 7,
   "id": "8b9e04fa-1b74-4d56-ae75-8e5a5a89dc22",
   "metadata": {},
   "outputs": [
    {
     "data": {
      "text/html": [
       "<div>\n",
       "<style scoped>\n",
       "    .dataframe tbody tr th:only-of-type {\n",
       "        vertical-align: middle;\n",
       "    }\n",
       "\n",
       "    .dataframe tbody tr th {\n",
       "        vertical-align: top;\n",
       "    }\n",
       "\n",
       "    .dataframe thead th {\n",
       "        text-align: right;\n",
       "    }\n",
       "</style>\n",
       "<table border=\"1\" class=\"dataframe\">\n",
       "  <thead>\n",
       "    <tr style=\"text-align: right;\">\n",
       "      <th></th>\n",
       "      <th>period_id</th>\n",
       "      <th>timestamp</th>\n",
       "      <th>frame_id</th>\n",
       "      <th>ball_state</th>\n",
       "      <th>ball_owning_team_id</th>\n",
       "      <th>ball_x</th>\n",
       "      <th>ball_y</th>\n",
       "      <th>ball_z</th>\n",
       "      <th>home_37_x</th>\n",
       "      <th>home_37_y</th>\n",
       "      <th>...</th>\n",
       "      <th>home_anon_322_d</th>\n",
       "      <th>home_anon_322_s</th>\n",
       "      <th>away_anon_322_x</th>\n",
       "      <th>away_anon_322_y</th>\n",
       "      <th>away_anon_322_d</th>\n",
       "      <th>away_anon_322_s</th>\n",
       "      <th>home_anon_327_x</th>\n",
       "      <th>home_anon_327_y</th>\n",
       "      <th>home_anon_327_d</th>\n",
       "      <th>home_anon_327_s</th>\n",
       "    </tr>\n",
       "  </thead>\n",
       "  <tbody>\n",
       "    <tr>\n",
       "      <th>0</th>\n",
       "      <td>1</td>\n",
       "      <td>00:00</td>\n",
       "      <td>1833</td>\n",
       "      <td>None</td>\n",
       "      <td>NaN</td>\n",
       "      <td>NaN</td>\n",
       "      <td>NaN</td>\n",
       "      <td>NaN</td>\n",
       "      <td>-22.432314</td>\n",
       "      <td>7.830066</td>\n",
       "      <td>...</td>\n",
       "      <td>NaN</td>\n",
       "      <td>NaN</td>\n",
       "      <td>NaN</td>\n",
       "      <td>NaN</td>\n",
       "      <td>NaN</td>\n",
       "      <td>NaN</td>\n",
       "      <td>NaN</td>\n",
       "      <td>NaN</td>\n",
       "      <td>NaN</td>\n",
       "      <td>NaN</td>\n",
       "    </tr>\n",
       "    <tr>\n",
       "      <th>1</th>\n",
       "      <td>1</td>\n",
       "      <td>00:01</td>\n",
       "      <td>1843</td>\n",
       "      <td>None</td>\n",
       "      <td>139.0</td>\n",
       "      <td>15.242770</td>\n",
       "      <td>0.569062</td>\n",
       "      <td>0.135426</td>\n",
       "      <td>NaN</td>\n",
       "      <td>NaN</td>\n",
       "      <td>...</td>\n",
       "      <td>NaN</td>\n",
       "      <td>NaN</td>\n",
       "      <td>NaN</td>\n",
       "      <td>NaN</td>\n",
       "      <td>NaN</td>\n",
       "      <td>NaN</td>\n",
       "      <td>NaN</td>\n",
       "      <td>NaN</td>\n",
       "      <td>NaN</td>\n",
       "      <td>NaN</td>\n",
       "    </tr>\n",
       "    <tr>\n",
       "      <th>2</th>\n",
       "      <td>1</td>\n",
       "      <td>00:02</td>\n",
       "      <td>1853</td>\n",
       "      <td>None</td>\n",
       "      <td>139.0</td>\n",
       "      <td>15.885584</td>\n",
       "      <td>0.776744</td>\n",
       "      <td>NaN</td>\n",
       "      <td>NaN</td>\n",
       "      <td>NaN</td>\n",
       "      <td>...</td>\n",
       "      <td>NaN</td>\n",
       "      <td>NaN</td>\n",
       "      <td>NaN</td>\n",
       "      <td>NaN</td>\n",
       "      <td>NaN</td>\n",
       "      <td>NaN</td>\n",
       "      <td>NaN</td>\n",
       "      <td>NaN</td>\n",
       "      <td>NaN</td>\n",
       "      <td>NaN</td>\n",
       "    </tr>\n",
       "    <tr>\n",
       "      <th>3</th>\n",
       "      <td>1</td>\n",
       "      <td>00:03</td>\n",
       "      <td>1863</td>\n",
       "      <td>None</td>\n",
       "      <td>139.0</td>\n",
       "      <td>4.981162</td>\n",
       "      <td>1.476464</td>\n",
       "      <td>4.850837</td>\n",
       "      <td>-24.414745</td>\n",
       "      <td>3.478708</td>\n",
       "      <td>...</td>\n",
       "      <td>NaN</td>\n",
       "      <td>NaN</td>\n",
       "      <td>NaN</td>\n",
       "      <td>NaN</td>\n",
       "      <td>NaN</td>\n",
       "      <td>NaN</td>\n",
       "      <td>NaN</td>\n",
       "      <td>NaN</td>\n",
       "      <td>NaN</td>\n",
       "      <td>NaN</td>\n",
       "    </tr>\n",
       "    <tr>\n",
       "      <th>4</th>\n",
       "      <td>1</td>\n",
       "      <td>00:04</td>\n",
       "      <td>1873</td>\n",
       "      <td>None</td>\n",
       "      <td>139.0</td>\n",
       "      <td>NaN</td>\n",
       "      <td>NaN</td>\n",
       "      <td>NaN</td>\n",
       "      <td>-27.298623</td>\n",
       "      <td>0.736441</td>\n",
       "      <td>...</td>\n",
       "      <td>NaN</td>\n",
       "      <td>NaN</td>\n",
       "      <td>NaN</td>\n",
       "      <td>NaN</td>\n",
       "      <td>NaN</td>\n",
       "      <td>NaN</td>\n",
       "      <td>NaN</td>\n",
       "      <td>NaN</td>\n",
       "      <td>NaN</td>\n",
       "      <td>NaN</td>\n",
       "    </tr>\n",
       "  </tbody>\n",
       "</table>\n",
       "<p>5 rows × 160 columns</p>\n",
       "</div>"
      ],
      "text/plain": [
       "   period_id timestamp  frame_id ball_state  ball_owning_team_id     ball_x  \\\n",
       "0          1     00:00      1833       None                  NaN        NaN   \n",
       "1          1     00:01      1843       None                139.0  15.242770   \n",
       "2          1     00:02      1853       None                139.0  15.885584   \n",
       "3          1     00:03      1863       None                139.0   4.981162   \n",
       "4          1     00:04      1873       None                139.0        NaN   \n",
       "\n",
       "     ball_y    ball_z  home_37_x  home_37_y  ...  home_anon_322_d  \\\n",
       "0       NaN       NaN -22.432314   7.830066  ...              NaN   \n",
       "1  0.569062  0.135426        NaN        NaN  ...              NaN   \n",
       "2  0.776744       NaN        NaN        NaN  ...              NaN   \n",
       "3  1.476464  4.850837 -24.414745   3.478708  ...              NaN   \n",
       "4       NaN       NaN -27.298623   0.736441  ...              NaN   \n",
       "\n",
       "   home_anon_322_s  away_anon_322_x  away_anon_322_y  away_anon_322_d  \\\n",
       "0              NaN              NaN              NaN              NaN   \n",
       "1              NaN              NaN              NaN              NaN   \n",
       "2              NaN              NaN              NaN              NaN   \n",
       "3              NaN              NaN              NaN              NaN   \n",
       "4              NaN              NaN              NaN              NaN   \n",
       "\n",
       "   away_anon_322_s  home_anon_327_x  home_anon_327_y  home_anon_327_d  \\\n",
       "0              NaN              NaN              NaN              NaN   \n",
       "1              NaN              NaN              NaN              NaN   \n",
       "2              NaN              NaN              NaN              NaN   \n",
       "3              NaN              NaN              NaN              NaN   \n",
       "4              NaN              NaN              NaN              NaN   \n",
       "\n",
       "   home_anon_327_s  \n",
       "0              NaN  \n",
       "1              NaN  \n",
       "2              NaN  \n",
       "3              NaN  \n",
       "4              NaN  \n",
       "\n",
       "[5 rows x 160 columns]"
      ]
     },
     "execution_count": 7,
     "metadata": {},
     "output_type": "execute_result"
    }
   ],
   "source": [
    "df.head()"
   ]
  },
  {
   "cell_type": "markdown",
   "id": "c17dfc40-2352-4f22-a529-647c3b3bfefa",
   "metadata": {
    "tags": []
   },
   "source": [
    "#### **Understand the shape of the dataset**"
   ]
  },
  {
   "cell_type": "code",
   "execution_count": 8,
   "id": "65bbb2bd-bba5-479e-972e-f80b4cbc249f",
   "metadata": {},
   "outputs": [
    {
     "data": {
      "text/plain": [
       "(100, 160)"
      ]
     },
     "execution_count": 8,
     "metadata": {},
     "output_type": "execute_result"
    }
   ],
   "source": [
    "df.shape"
   ]
  },
  {
   "cell_type": "markdown",
   "id": "02182828-6a23-46e6-9f52-863b4983d6d6",
   "metadata": {},
   "source": [
    "**Observations**\n",
    "- There are 100 rows and 160 columns\n",
    "- The abundance of columns could indicate the number of off the ball players, including the ball "
   ]
  },
  {
   "cell_type": "markdown",
   "id": "6d406343-9ee8-4042-8a90-ea8dbf7dec62",
   "metadata": {
    "tags": []
   },
   "source": [
    "#### **Check the data types of the columns in the dataset**"
   ]
  },
  {
   "cell_type": "code",
   "execution_count": 9,
   "id": "957829fb-5bf0-4cdb-af4e-22fe3c0affc1",
   "metadata": {},
   "outputs": [
    {
     "data": {
      "text/plain": [
       "<bound method DataFrame.info of     period_id timestamp  frame_id ball_state  ball_owning_team_id     ball_x  \\\n",
       "0           1     00:00      1833       None                  NaN        NaN   \n",
       "1           1     00:01      1843       None                139.0  15.242770   \n",
       "2           1     00:02      1853       None                139.0  15.885584   \n",
       "3           1     00:03      1863       None                139.0   4.981162   \n",
       "4           1     00:04      1873       None                139.0        NaN   \n",
       "..        ...       ...       ...        ...                  ...        ...   \n",
       "95          1     02:18      3213       None                145.0 -15.329993   \n",
       "96          1     02:19      3223       None                145.0 -16.163115   \n",
       "97          1     02:20      3233       None                145.0 -12.448562   \n",
       "98          1     02:22      3253       None                145.0        NaN   \n",
       "99          1     02:23      3263       None                145.0  -4.743003   \n",
       "\n",
       "       ball_y        ball_z  home_37_x  home_37_y  ...  home_anon_322_d  \\\n",
       "0         NaN           NaN -22.432314   7.830066  ...              NaN   \n",
       "1    0.569062  1.354258e-01        NaN        NaN  ...              NaN   \n",
       "2    0.776744           NaN        NaN        NaN  ...              NaN   \n",
       "3    1.476464  4.850837e+00 -24.414745   3.478708  ...              NaN   \n",
       "4         NaN           NaN -27.298623   0.736441  ...              NaN   \n",
       "..        ...           ...        ...        ...  ...              ...   \n",
       "95  -5.856413           NaN  -8.410426  12.295932  ...              NaN   \n",
       "96  -2.227213           NaN -10.516237  14.669300  ...              NaN   \n",
       "97  10.350243  2.902440e-16 -10.627932  15.334351  ...              NaN   \n",
       "98        NaN           NaN -10.697177  18.053226  ...              NaN   \n",
       "99  27.022774  1.131683e-01 -12.764154  22.291986  ...              NaN   \n",
       "\n",
       "    home_anon_322_s  away_anon_322_x  away_anon_322_y  away_anon_322_d  \\\n",
       "0               NaN              NaN              NaN              NaN   \n",
       "1               NaN              NaN              NaN              NaN   \n",
       "2               NaN              NaN              NaN              NaN   \n",
       "3               NaN              NaN              NaN              NaN   \n",
       "4               NaN              NaN              NaN              NaN   \n",
       "..              ...              ...              ...              ...   \n",
       "95              NaN              NaN              NaN              NaN   \n",
       "96              NaN              NaN              NaN              NaN   \n",
       "97              NaN              NaN              NaN              NaN   \n",
       "98              NaN              NaN              NaN              NaN   \n",
       "99              NaN              NaN              NaN              NaN   \n",
       "\n",
       "    away_anon_322_s  home_anon_327_x  home_anon_327_y  home_anon_327_d  \\\n",
       "0               NaN              NaN              NaN              NaN   \n",
       "1               NaN              NaN              NaN              NaN   \n",
       "2               NaN              NaN              NaN              NaN   \n",
       "3               NaN              NaN              NaN              NaN   \n",
       "4               NaN              NaN              NaN              NaN   \n",
       "..              ...              ...              ...              ...   \n",
       "95              NaN              NaN              NaN              NaN   \n",
       "96              NaN              NaN              NaN              NaN   \n",
       "97              NaN              NaN              NaN              NaN   \n",
       "98              NaN              NaN              NaN              NaN   \n",
       "99              NaN              NaN              NaN              NaN   \n",
       "\n",
       "    home_anon_327_s  \n",
       "0               NaN  \n",
       "1               NaN  \n",
       "2               NaN  \n",
       "3               NaN  \n",
       "4               NaN  \n",
       "..              ...  \n",
       "95              NaN  \n",
       "96              NaN  \n",
       "97              NaN  \n",
       "98              NaN  \n",
       "99              NaN  \n",
       "\n",
       "[100 rows x 160 columns]>"
      ]
     },
     "execution_count": 9,
     "metadata": {},
     "output_type": "execute_result"
    }
   ],
   "source": [
    "df.info"
   ]
  },
  {
   "cell_type": "code",
   "execution_count": 10,
   "id": "3b53569d-1da3-45a2-883d-3b606283da96",
   "metadata": {},
   "outputs": [
    {
     "data": {
      "text/plain": [
       "period_id                int64\n",
       "timestamp               object\n",
       "frame_id                 int64\n",
       "ball_state              object\n",
       "ball_owning_team_id    float64\n",
       "                        ...   \n",
       "away_anon_322_s        float64\n",
       "home_anon_327_x        float64\n",
       "home_anon_327_y        float64\n",
       "home_anon_327_d        float64\n",
       "home_anon_327_s        float64\n",
       "Length: 160, dtype: object"
      ]
     },
     "execution_count": 10,
     "metadata": {},
     "output_type": "execute_result"
    }
   ],
   "source": [
    "df.dtypes"
   ]
  },
  {
   "cell_type": "code",
   "execution_count": 11,
   "id": "6b34966a-275d-4ba0-b142-bb6960c045d6",
   "metadata": {},
   "outputs": [
    {
     "data": {
      "text/plain": [
       "0"
      ]
     },
     "execution_count": 11,
     "metadata": {},
     "output_type": "execute_result"
    }
   ],
   "source": [
    "df.duplicated().sum()"
   ]
  },
  {
   "cell_type": "code",
   "execution_count": 12,
   "id": "09535c1f-d9f9-4f17-a960-0148da21a276",
   "metadata": {},
   "outputs": [
    {
     "data": {
      "text/plain": [
       "Series([], Name: ball_state, dtype: int64)"
      ]
     },
     "execution_count": 12,
     "metadata": {},
     "output_type": "execute_result"
    }
   ],
   "source": [
    "df['ball_state'].value_counts()"
   ]
  },
  {
   "cell_type": "code",
   "execution_count": 13,
   "id": "22d60231-4f09-491a-aac4-b2d15805ed85",
   "metadata": {},
   "outputs": [
    {
     "data": {
      "text/plain": [
       "145.0    50\n",
       "139.0    49\n",
       "Name: ball_owning_team_id, dtype: int64"
      ]
     },
     "execution_count": 13,
     "metadata": {},
     "output_type": "execute_result"
    }
   ],
   "source": [
    "df['ball_owning_team_id'].value_counts()"
   ]
  },
  {
   "cell_type": "markdown",
   "id": "b04c9f1f-5dbe-47a4-af5e-c34f70355045",
   "metadata": {},
   "source": [
    "**Observations**\n",
    "- As expected, we will be dealing with missing data because of coordinates of those players off the ball\n",
    "- Ball state and timestamp are categorized as an \"object\", but looks like it has no data in bal state\n",
    "- We do not have any duplicated rows nor columns\n",
    "- There are two teams, one with ID 145 with 50 actions and ID 139 with 49 actions"
   ]
  },
  {
   "cell_type": "markdown",
   "id": "b5f03cdb-8fe5-432f-9a43-f4159ce166fc",
   "metadata": {
    "tags": []
   },
   "source": [
    "#### **Pitch Dimensions**"
   ]
  },
  {
   "cell_type": "code",
   "execution_count": 14,
   "id": "d56366ae-9e6f-4160-ac4c-93643538e5b9",
   "metadata": {},
   "outputs": [
    {
     "data": {
      "image/jpeg": "[encoded data removed]",
      "text/plain": [
       "<IPython.core.display.Image object>"
      ]
     },
     "execution_count": 14,
     "metadata": {
      "image/jpeg": {
       "height": 300,
       "width": 400
      }
     },
     "output_type": "execute_result"
    }
   ],
   "source": [
    "from IPython.display import Image\n",
    "\n",
    "Image(filename='field.jpg', width=400, height=300)"
   ]
  },
  {
   "cell_type": "markdown",
   "id": "d1ff9af7-8914-4f20-84ca-a63ea03242b7",
   "metadata": {},
   "source": [
    "**Observations**\n",
    "- The center of the pitch is (0,0)\n",
    "- The corner coordinates are (52.5,34), (52.5,-34), (-52.5,34), and (-52.5,-34)"
   ]
  },
  {
   "cell_type": "markdown",
   "id": "7b82cc9c-e37b-4bc0-9b39-317f886326a2",
   "metadata": {
    "tags": []
   },
   "source": [
    "#### **Describing the location of the ball**"
   ]
  },
  {
   "cell_type": "code",
   "execution_count": 15,
   "id": "d4b188e9-5159-40ec-ba90-6b4e23521a2a",
   "metadata": {},
   "outputs": [
    {
     "data": {
      "text/plain": [
       "count    79.000000\n",
       "mean     -4.291565\n",
       "std      21.916830\n",
       "min     -39.244988\n",
       "25%     -20.982475\n",
       "50%     -10.383167\n",
       "75%      13.284915\n",
       "max      48.677484\n",
       "Name: ball_x, dtype: float64"
      ]
     },
     "execution_count": 15,
     "metadata": {},
     "output_type": "execute_result"
    }
   ],
   "source": [
    "df['ball_x'].describe()"
   ]
  },
  {
   "cell_type": "code",
   "execution_count": 16,
   "id": "3b72b330-23e3-4ec7-affe-adc80511172f",
   "metadata": {},
   "outputs": [
    {
     "data": {
      "text/plain": [
       "count    79.000000\n",
       "mean     -7.396714\n",
       "std      20.046334\n",
       "min     -34.899497\n",
       "25%     -23.690042\n",
       "50%     -16.489830\n",
       "75%       8.509126\n",
       "max      32.790479\n",
       "Name: ball_y, dtype: float64"
      ]
     },
     "execution_count": 16,
     "metadata": {},
     "output_type": "execute_result"
    }
   ],
   "source": [
    "df['ball_y'].describe()"
   ]
  },
  {
   "cell_type": "markdown",
   "id": "3e41297c-23f2-4c08-aa67-161c23aad5b9",
   "metadata": {},
   "source": [
    "**Observations**\n",
    "- The max for ball_x is 48.677484 and min is -39.244988 meaning there were no goals scored or might have not gone out for a goalkick/corner kick in our dataset\n",
    "- The max for ball_y is 32.790479 and min is -34.899497 meaning the ball never came out for a throw in on the top of our pitch/left side of the pitch in our dataset"
   ]
  },
  {
   "cell_type": "markdown",
   "id": "126ffd40-5891-4608-83cd-18ba47d1a751",
   "metadata": {
    "tags": []
   },
   "source": [
    "#### **Exporting to CSV to see the all the columns**"
   ]
  },
  {
   "cell_type": "code",
   "execution_count": 17,
   "id": "daff7cc3-1894-4790-b57d-ee94587b351d",
   "metadata": {},
   "outputs": [],
   "source": [
    "#df.to_csv('skillcorner.csv', index=False)"
   ]
  },
  {
   "cell_type": "markdown",
   "id": "e01c83a1-6356-40bf-87e4-37375a3211d7",
   "metadata": {},
   "source": [
    "#### **Filtering for certain conditions to identify a corner kick**"
   ]
  },
  {
   "cell_type": "code",
   "execution_count": 18,
   "id": "276df50c-1e08-4e4b-a2c7-5bfd92b93ea8",
   "metadata": {},
   "outputs": [
    {
     "data": {
      "text/html": [
       "<div>\n",
       "<style scoped>\n",
       "    .dataframe tbody tr th:only-of-type {\n",
       "        vertical-align: middle;\n",
       "    }\n",
       "\n",
       "    .dataframe tbody tr th {\n",
       "        vertical-align: top;\n",
       "    }\n",
       "\n",
       "    .dataframe thead th {\n",
       "        text-align: right;\n",
       "    }\n",
       "</style>\n",
       "<table border=\"1\" class=\"dataframe\">\n",
       "  <thead>\n",
       "    <tr style=\"text-align: right;\">\n",
       "      <th></th>\n",
       "      <th>period_id</th>\n",
       "      <th>timestamp</th>\n",
       "      <th>frame_id</th>\n",
       "      <th>ball_state</th>\n",
       "      <th>ball_owning_team_id</th>\n",
       "      <th>ball_x</th>\n",
       "      <th>ball_y</th>\n",
       "      <th>ball_z</th>\n",
       "      <th>home_37_x</th>\n",
       "      <th>home_37_y</th>\n",
       "      <th>...</th>\n",
       "      <th>home_anon_322_d</th>\n",
       "      <th>home_anon_322_s</th>\n",
       "      <th>away_anon_322_x</th>\n",
       "      <th>away_anon_322_y</th>\n",
       "      <th>away_anon_322_d</th>\n",
       "      <th>away_anon_322_s</th>\n",
       "      <th>home_anon_327_x</th>\n",
       "      <th>home_anon_327_y</th>\n",
       "      <th>home_anon_327_d</th>\n",
       "      <th>home_anon_327_s</th>\n",
       "    </tr>\n",
       "  </thead>\n",
       "  <tbody>\n",
       "    <tr>\n",
       "      <th>88</th>\n",
       "      <td>1</td>\n",
       "      <td>02:03</td>\n",
       "      <td>3063</td>\n",
       "      <td>None</td>\n",
       "      <td>145.0</td>\n",
       "      <td>11.392073</td>\n",
       "      <td>-34.899497</td>\n",
       "      <td>NaN</td>\n",
       "      <td>35.518485</td>\n",
       "      <td>-5.243791</td>\n",
       "      <td>...</td>\n",
       "      <td>NaN</td>\n",
       "      <td>NaN</td>\n",
       "      <td>35.06367</td>\n",
       "      <td>1.722366</td>\n",
       "      <td>NaN</td>\n",
       "      <td>NaN</td>\n",
       "      <td>NaN</td>\n",
       "      <td>NaN</td>\n",
       "      <td>NaN</td>\n",
       "      <td>NaN</td>\n",
       "    </tr>\n",
       "  </tbody>\n",
       "</table>\n",
       "<p>1 rows × 160 columns</p>\n",
       "</div>"
      ],
      "text/plain": [
       "    period_id timestamp  frame_id ball_state  ball_owning_team_id     ball_x  \\\n",
       "88          1     02:03      3063       None                145.0  11.392073   \n",
       "\n",
       "       ball_y  ball_z  home_37_x  home_37_y  ...  home_anon_322_d  \\\n",
       "88 -34.899497     NaN  35.518485  -5.243791  ...              NaN   \n",
       "\n",
       "    home_anon_322_s  away_anon_322_x  away_anon_322_y  away_anon_322_d  \\\n",
       "88              NaN         35.06367         1.722366              NaN   \n",
       "\n",
       "    away_anon_322_s  home_anon_327_x  home_anon_327_y  home_anon_327_d  \\\n",
       "88              NaN              NaN              NaN              NaN   \n",
       "\n",
       "    home_anon_327_s  \n",
       "88              NaN  \n",
       "\n",
       "[1 rows x 160 columns]"
      ]
     },
     "execution_count": 18,
     "metadata": {},
     "output_type": "execute_result"
    }
   ],
   "source": [
    "filtered_df = df[(df['ball_x'] < -52) | (df['ball_x'] > 52) |\n",
    "        (df['ball_y'] < -33) | (df['ball_y'] > 33)\n",
    "    ]\n",
    "filtered_df.sort_values('ball_x', ascending=False)"
   ]
  },
  {
   "cell_type": "markdown",
   "id": "b9cb38cd-89d6-4101-b498-e00bfc0978c1",
   "metadata": {},
   "source": [
    "**Observations**\n",
    "\n",
    "- We cannot find a point that is nearly close to the corner coordinates: (52.5, 34), (52.5, -34), (-52.5, 34), and (-52.5, -34).\n",
    "- Numerically, it looks like only ball that went out from the touchline was for a corner based on the coordinates (11.392073, -34.899497)"
   ]
  },
  {
   "cell_type": "markdown",
   "id": "a62cb90e-cf25-410a-8de5-48639bc736d0",
   "metadata": {},
   "source": [
    "Next steps, to try to built a model that will identify a corner kick numerically and visualize the frame and provide an analysis for coaches/performance analysts in app form. To conclude, we will also provide general points of analysis in order to analyze a corner, if such action were available in these datasets."
   ]
  },
  {
   "cell_type": "code",
   "execution_count": null,
   "id": "26d0916c-3a1d-4431-9666-019a24c28c2a",
   "metadata": {},
   "outputs": [],
   "source": []
  }
 ],
 "metadata": {
  "kernelspec": {
   "display_name": "Python 3 (ipykernel)",
   "language": "python",
   "name": "python3"
  },
  "language_info": {
   "codemirror_mode": {
    "name": "ipython",
    "version": 3
   },
   "file_extension": ".py",
   "mimetype": "text/x-python",
   "name": "python",
   "nbconvert_exporter": "python",
   "pygments_lexer": "ipython3",
   "version": "3.10.9"
  }
 },
 "nbformat": 4,
 "nbformat_minor": 5
}
